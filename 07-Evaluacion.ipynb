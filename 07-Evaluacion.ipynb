{
 "cells": [
  {
   "cell_type": "markdown",
   "metadata": {},
   "source": [
    "**Recuerde no agregar o quitar celdas en este notebook, ni modificar su tipo. Si lo hace, el sistema automaticamente lo calificará con cero punto cero (0.0)**"
   ]
  },
  {
   "cell_type": "markdown",
   "metadata": {},
   "source": [
    "Calcule los valores máximo y mínimo de la tercera columna por letra."
   ]
  },
  {
   "cell_type": "code",
   "execution_count": 13,
   "metadata": {},
   "outputs": [
    {
     "name": "stdout",
     "output_type": "stream",
     "text": [
      "Writing input.txt\n"
     ]
    }
   ],
   "source": [
    "%%writefile input.txt\n",
    "B   1999-08-28   14.1\n",
    "E   1999-12-06   12.2\n",
    "E   1993-07-21   17.0\n",
    "C   1991-02-12   13.8\n",
    "E   1995-04-25   16.9\n",
    "A   1992-08-22   14.8\n",
    "B   1999-06-11   12.1\n",
    "E   1993-01-27   13.2\n",
    "E   1999-09-10   11.3\n",
    "E   1990-05-03   16.4\n",
    "E   1994-02-14   10.5\n",
    "A   1988-04-27   12.6\n",
    "A   1990-10-06   10.7\n",
    "E   1985-02-12   16.8\n",
    "E   1998-09-14   16.9\n",
    "B   1994-08-30   17.0\n",
    "A   1997-12-15   13.6\n",
    "B   1995-08-23   10.7\n",
    "B   1998-11-22   13.8\n",
    "B   1997-04-09   14.9\n",
    "E   1993-12-27   18.4\n",
    "E   1999-01-14   15.3\n",
    "A   1992-09-19   18.2\n",
    "B   1993-03-02   14.4\n",
    "B   1999-10-21   13.5\n",
    "A   1990-08-31   12.6\n",
    "C   1994-01-25   10.7\n",
    "E   1990-02-09   18.8\n",
    "A   1990-09-26   14.9\n",
    "A   1993-05-08   16.8\n",
    "B   1995-09-06   14.7\n",
    "E   1991-02-18   14.6\n",
    "A   1993-01-11   14.5\n",
    "A   1990-07-22   18.4\n",
    "C   1994-09-09   15.3\n",
    "C   1994-07-27   10.2\n",
    "D   1990-10-10   15.1\n",
    "A   1990-09-05   11.0\n",
    "B   1991-10-01   15.0\n",
    "A   1994-10-25   13.1"
   ]
  },
  {
   "cell_type": "markdown",
   "metadata": {},
   "source": [
    "## Mapper"
   ]
  },
  {
   "cell_type": "code",
   "execution_count": 14,
   "metadata": {},
   "outputs": [
    {
     "name": "stdout",
     "output_type": "stream",
     "text": [
      "Writing mapper.py\n"
     ]
    }
   ],
   "source": [
    "%%writefile mapper.py\n",
    "#! /usr/bin/env python\n",
    "\n",
    "import sys\n",
    "\n",
    "class Mapper:\n",
    "    \n",
    "    def __init__(self, stream):\n",
    "     \n",
    "        self.stream = stream\n",
    "    \n",
    "    def emit(self, key, value):\n",
    "       \n",
    "        sys.stdout.write(\"{}\\t{}\\n\".format(key, value))\n",
    "\n",
    "    def map(self):\n",
    "              \n",
    "        for word,val in self:\n",
    "          \n",
    "            self.emit(key=word,value =val)\n",
    "            \n",
    "    def __iter__(self):\n",
    "        for line in self.stream:\n",
    "            words= line.split()\n",
    "            yield words[0],float(words[2])\n",
    "\n",
    "if __name__ == \"__main__\": \n",
    "    mapper = Mapper(sys.stdin)\n",
    "    mapper.map()\n",
    "    pass"
   ]
  },
  {
   "cell_type": "markdown",
   "metadata": {},
   "source": [
    "## Reducer"
   ]
  },
  {
   "cell_type": "code",
   "execution_count": 15,
   "metadata": {},
   "outputs": [
    {
     "name": "stdout",
     "output_type": "stream",
     "text": [
      "Overwriting reducer.py\n"
     ]
    }
   ],
   "source": [
    "%%writefile reducer.py\n",
    "#!/usr/bin/env python\n",
    "\n",
    "import sys\n",
    "import itertools\n",
    "\n",
    "class Reducer:\n",
    "    \n",
    "    def __init__(self, stream):\n",
    "        self.stream = stream\n",
    "        \n",
    "    def emit(self, key, value):\n",
    "        sys.stdout.write(\"{}\\t{}\\n\".format(key, str(value))) \n",
    "\n",
    "    def reduce(self):\n",
    "              \n",
    "        for key, group in itertools.groupby(self, lambda x: x[0]):\n",
    "            _min = 99999\n",
    "            _max = -99999\n",
    "            for _, val in group:\n",
    "                if _min > val:\n",
    "                    _min = val\n",
    "                if _max < val:\n",
    "                    _max = val\n",
    "            \n",
    "            self.emit(key, '\\t'.join((str(_max), str(_min))))\n",
    "            #self.emit(key, '\\t'.join((str(suma), str(avg))))\n",
    "    def __iter__(self):\n",
    "        \n",
    "        for line in self.stream:\n",
    "          \n",
    "            key, val = line.split(\"\\t\") \n",
    "            try:\n",
    "                val = float(val)\n",
    "            except:\n",
    "                continue\n",
    "            yield (key, val)\n",
    "\n",
    "\n",
    "if __name__ == '__main__': \n",
    "  \n",
    "    reducer = Reducer(sys.stdin)\n",
    "    reducer.reduce()\n",
    "\n",
    "    pass"
   ]
  },
  {
   "cell_type": "markdown",
   "metadata": {},
   "source": [
    "## Ejecución"
   ]
  },
  {
   "cell_type": "code",
   "execution_count": 16,
   "metadata": {},
   "outputs": [
    {
     "name": "stdout",
     "output_type": "stream",
     "text": [
      "A\t18.4\t10.7\n",
      "B\t17.0\t10.7\n",
      "C\t15.3\t10.2\n",
      "D\t15.1\t15.1\n",
      "E\t18.8\t10.5\n"
     ]
    }
   ],
   "source": [
    "%%bash\n",
    "rm -rf output\n",
    "STREAM=$HADOOP_HOME/share/hadoop/tools/lib/hadoop-streaming-*.jar\n",
    "chmod +x mapper.py\n",
    "chmod +x reducer.py\n",
    "hadoop jar $STREAM -input input.txt -output output  -mapper mapper.py -reducer reducer.py\n",
    "cat output/part-00000"
   ]
  },
  {
   "cell_type": "code",
   "execution_count": 17,
   "metadata": {
    "collapsed": true
   },
   "outputs": [],
   "source": [
    "!rm -rf mapper.py reducer.py output input.txt"
   ]
  },
  {
   "cell_type": "markdown",
   "metadata": {},
   "source": [
    "---"
   ]
  },
  {
   "cell_type": "markdown",
   "metadata": {},
   "source": [
    "Para realizar la evaluación automática de este libro:\n",
    "\n",
    "* Abra un Terminal.\n",
    "* Asegurece que esat en la misma carpeta que contiene este notebook.\n",
    "* Salve el notebook.\n",
    "* Ejecute el siguiente comando:\n",
    "\n",
    "      ./gradetool 07-Taller.ipynb"
   ]
  },
  {
   "cell_type": "markdown",
   "metadata": {},
   "source": [
    "---"
   ]
  }
 ],
 "metadata": {
  "kernelspec": {
   "display_name": "Python 3",
   "language": "python",
   "name": "python3"
  },
  "language_info": {
   "codemirror_mode": {
    "name": "ipython",
    "version": 3
   },
   "file_extension": ".py",
   "mimetype": "text/x-python",
   "name": "python",
   "nbconvert_exporter": "python",
   "pygments_lexer": "ipython3",
   "version": "3.6.1"
  },
  "toc": {
   "base_numbering": 1,
   "nav_menu": {},
   "number_sections": false,
   "sideBar": true,
   "skip_h1_title": true,
   "title_cell": "Table of Contents",
   "title_sidebar": "Contents",
   "toc_cell": false,
   "toc_position": {},
   "toc_section_display": true,
   "toc_window_display": true
  },
  "toc-autonumbering": false
 },
 "nbformat": 4,
 "nbformat_minor": 2
}
